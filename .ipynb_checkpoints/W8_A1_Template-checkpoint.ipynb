{
 "cells": [
  {
   "cell_type": "markdown",
   "metadata": {},
   "source": [
    "# Quantum Stock Picking and Quantum Portfolio Optimization\n"
   ]
  },
  {
   "cell_type": "markdown",
   "metadata": {},
   "source": [
    "## Introduction\n",
    "\n",
    "This assignment will shows how we can use mean-variance optimization to pick stocks for a problem for $n$ assets:\n",
    "\n",
    "$$\\begin{aligned}\n",
    "\\min_{x \\in \\{0, 1\\}^n}  q x^T \\Sigma x - \\mu^T x\\\\\n",
    "\\text{subject to: } 1^T x = B\n",
    "\\end{aligned}$$\n",
    "\n",
    "where we use the following notation:\n",
    "\n",
    "- $x \\in \\{0, 1\\}^n$ denotes the vector of binary decision variables, which indicate which assets to pick ($x[i] = 1$) and which not to pick ($x[i] = 0$),\n",
    "- $\\mu \\in \\mathbb{R}^n$ defines the expected returns for the assets,\n",
    "- $\\Sigma \\in \\mathbb{R}^{n \\times n}$ specifies the covariances between the assets,\n",
    "- $q > 0$ controls the risk appetite of the decision maker,\n",
    "- and $B$ denotes the budget, i.e. the number of assets to be selected out of $n$.\n",
    "\n",
    "We assume the following simplifications:\n",
    "- all assets have the same price (normalized to 1),\n",
    "- the full budget $B$ has to be spent, i.e. one has to select exactly $B$ assets.\n",
    "\n",
    "The equality constraint $1^T x = B$ is mapped to a penalty term $(1^T x - B)^2$ which is scaled by a parameter and subtracted from the objective function. \n",
    "The resulting problem can be mapped to a Hamiltonian whose ground state corresponds to  the optimal solution.\n",
    "This notebook shows how to use the Variational Quantum Eigensolver (VQE) to find the optimal solution for a given set of parameters.\n",
    "\n",
    "Experiments on real quantum hardware for this problem are reported for instance in the following paper:\n",
    "<br>\n",
    "[Improving Variational Quantum Optimization using CVaR. Barkoutsos et al. 2019.](https://arxiv.org/abs/1907.04769)\n",
    "\n",
    "Note: We are not using CVaR as a portfolio statistic here, rather as a heuristic in our VQE procedure, curious students are encouraged to read the paper above."
   ]
  },
  {
   "cell_type": "markdown",
   "metadata": {},
   "source": [
    "#### To Students: Complete the following sections labeled todo"
   ]
  },
  {
   "cell_type": "code",
   "execution_count": 29,
   "metadata": {
    "ExecuteTime": {
     "end_time": "2020-07-13T20:35:05.710593Z",
     "start_time": "2020-07-13T20:34:57.647535Z"
    }
   },
   "outputs": [],
   "source": [
    "from qiskit import Aer\n",
    "from qiskit.algorithms import VQE, QAOA, NumPyMinimumEigensolver\n",
    "from qiskit.algorithms.optimizers import COBYLA\n",
    "from qiskit.circuit.library import TwoLocal\n",
    "from qiskit.utils import QuantumInstance\n",
    "from qiskit_finance.applications.optimization import PortfolioOptimization\n",
    "from qiskit_finance.data_providers import RandomDataProvider, YahooDataProvider\n",
    "from qiskit_optimization.algorithms import MinimumEigenOptimizer\n",
    "from qiskit_optimization.applications import OptimizationApplication\n",
    "from qiskit_optimization.converters import QuadraticProgramToQubo\n",
    "from qiskit.utils import algorithm_globals\n",
    "\n",
    "import numpy as np\n",
    "import matplotlib.pyplot as plt\n",
    "import datetime\n",
    "import pandas\n",
    "import pandas as pd\n",
    "\n",
    "def index_to_selection(i, num_assets):\n",
    "    s = \"{0:b}\".format(i).rjust(num_assets)\n",
    "    x = np.array([1 if s[i]=='1' else 0 for i in reversed(range(num_assets))])\n",
    "    return x\n",
    "\n",
    "def print_result(result):\n",
    "    selection = result.x\n",
    "    value = result.fval\n",
    "    print('Optimal: selection {}, value {:.4f}'.format(selection, value))\n",
    "    \n",
    "    eigenstate = result.min_eigen_solver_result.eigenstate\n",
    "    eigenvector = eigenstate if isinstance(eigenstate, np.ndarray) else eigenstate.to_matrix()\n",
    "    probabilities = np.abs(eigenvector)**2\n",
    "    i_sorted = reversed(np.argsort(probabilities))\n",
    "    print('\\n----------------- Full result ---------------------')\n",
    "    print('selection\\tvalue\\t\\tprobability')\n",
    "    print('---------------------------------------------------')\n",
    "    for i in i_sorted:\n",
    "        x = index_to_selection(i, num_assets)\n",
    "        value = QuadraticProgramToQubo().convert(qp).objective.evaluate(x)\n",
    "        #value = portfolio.to_quadratic_program().objective.evaluate(x)\n",
    "        probability = probabilities[i]\n",
    "        print('%10s\\t%.4f\\t\\t%.4f' %(x, value, probability))"
   ]
  },
  {
   "cell_type": "code",
   "execution_count": 30,
   "metadata": {},
   "outputs": [],
   "source": [
    "from qiskit import IBMQ\n",
    "IBMQ.save_account('1ecbbf3d033b6f55794a3d61c0af101322b1cb46e50704221178862a68506b789665134d0384d9f44deebccc054554194818486f7c70aba91aab6ec8ad0b0638', overwrite=True)"
   ]
  },
  {
   "cell_type": "code",
   "execution_count": 31,
   "metadata": {},
   "outputs": [
    {
     "name": "stderr",
     "output_type": "stream",
     "text": [
      "ibmqfactory.load_account:WARNING:2021-12-02 12:10:56,026: Credentials are already in use. The existing account in the session will be replaced.\n"
     ]
    },
    {
     "data": {
      "text/plain": [
       "<AccountProvider for IBMQ(hub='ibm-q', group='open', project='main')>"
      ]
     },
     "execution_count": 31,
     "metadata": {},
     "output_type": "execute_result"
    }
   ],
   "source": [
    "IBMQ.load_account()"
   ]
  },
  {
   "cell_type": "code",
   "execution_count": 32,
   "metadata": {},
   "outputs": [],
   "source": [
    "#global random seed used throuhgout\n",
    "seed = 123"
   ]
  },
  {
   "cell_type": "code",
   "execution_count": 33,
   "metadata": {
    "ExecuteTime": {
     "end_time": "2020-07-13T20:35:15.224327Z",
     "start_time": "2020-07-13T20:35:15.213892Z"
    }
   },
   "outputs": [],
   "source": [
    "# Generate expected return and covariance matrix from (random) time-series\n",
    "\n",
    "#Todo pick candidate stocks, 3-8 are recommended, stick to 4 if you're going to submit a real quantum experiment to IBM's cloud:\n",
    "\n",
    "stocks = ['IBM','NVDA','GOOGL','AMZN','BABA']\n",
    "\n",
    "# Here are some quantum themed stocks :) \n",
    "# ['IBM','AMD','ACN','NVDA','GOOGL','MSFT','AMZN','MU','BABA']\n",
    "# Feel free to pick any in this list or beyond\n",
    "    \n",
    "num_assets = len(stocks)\n",
    "\n",
    "#IBM has done us a favour and provided a cute data provider they designed.\n",
    "data = YahooDataProvider(tickers=stocks,\n",
    "                 start=pandas.Timestamp('2015'),\n",
    "                 end=pandas.Timestamp.now())\n",
    "data.run()\n",
    "\n",
    "# Here we pull apart the IBM qiskit_finance.data_provider internals to retreive our data and format as a pandas DataFrame\n",
    "df = pandas.DataFrame({data._tickers[tidx]:data._data[tidx] for tidx in range(len(data._tickers))})\n",
    "\n",
    "# Provided by IBM\n",
    "mu = data.get_period_return_mean_vector()\n",
    "sigma = data.get_period_return_covariance_matrix()"
   ]
  },
  {
   "cell_type": "code",
   "execution_count": 34,
   "metadata": {
    "ExecuteTime": {
     "end_time": "2020-07-13T20:35:15.231767Z",
     "start_time": "2020-07-13T20:35:15.226490Z"
    }
   },
   "outputs": [
    {
     "data": {
      "text/plain": [
       "\\ This file has been generated by DOcplex\n",
       "\\ ENCODING=ISO-8859-1\n",
       "\\Problem name: Portfolio optimization\n",
       "\n",
       "Minimize\n",
       " obj: - 0.000133738493 x_0 - 0.002802787404 x_1 - 0.001100211669 x_2\n",
       "      - 0.001565786895 x_3 - 0.000334058016 x_4 + [ 0.000245892053 x_0^2\n",
       "      + 0.000318132265 x_0*x_1 + 0.000238370676 x_0*x_2 + 0.000189993732 x_0*x_3\n",
       "      + 0.000189696647 x_0*x_4 + 0.000812485137 x_1^2 + 0.000487746565 x_1*x_2\n",
       "      + 0.000513371514 x_1*x_3 + 0.000503124339 x_1*x_4 + 0.000279163791 x_2^2\n",
       "      + 0.000407034437 x_2*x_3 + 0.000321326687 x_2*x_4 + 0.000361595707 x_3^2\n",
       "      + 0.000359637827 x_3*x_4 + 0.000475395615 x_4^2 ]/2\n",
       "Subject To\n",
       " c0: x_0 + x_1 + x_2 + x_3 + x_4 = 2\n",
       "\n",
       "Bounds\n",
       " 0 <= x_0 <= 1\n",
       " 0 <= x_1 <= 1\n",
       " 0 <= x_2 <= 1\n",
       " 0 <= x_3 <= 1\n",
       " 0 <= x_4 <= 1\n",
       "\n",
       "Binaries\n",
       " x_0 x_1 x_2 x_3 x_4\n",
       "End"
      ]
     },
     "execution_count": 34,
     "metadata": {},
     "output_type": "execute_result"
    }
   ],
   "source": [
    "q = 0.50                   #  risk appetite \n",
    "budget = num_assets  //2   #  stocks to allocate\n",
    "penalty = num_assets       #  set parameter to scale the budget penalty term\n",
    "bounds = None              #  Allocation percent: None: 100%\n",
    "\n",
    "portfolio = PortfolioOptimization(expected_returns=mu, covariances=sigma, risk_factor=q, budget=budget,bounds=bounds)\n",
    "qp = portfolio.to_quadratic_program()\n",
    "qp"
   ]
  },
  {
   "cell_type": "code",
   "execution_count": 35,
   "metadata": {},
   "outputs": [
    {
     "data": {
      "text/plain": [
       "<IBMQBackend('ibmq_manila') from IBMQ(hub='ibm-q', group='open', project='main')>"
      ]
     },
     "execution_count": 35,
     "metadata": {},
     "output_type": "execute_result"
    }
   ],
   "source": [
    "IBMQ.providers()[0].backends()[-1]"
   ]
  },
  {
   "cell_type": "markdown",
   "metadata": {
    "tags": []
   },
   "source": [
    "## Solution using VQE\n",
    "We can now use the Variational Quantum Eigensolver (VQE) to solve the problem. We will specify the optimizer and variational form to be used.\n",
    "\n",
    "Note: You can switch to different backends by providing the name of backend."
   ]
  },
  {
   "cell_type": "code",
   "execution_count": 36,
   "metadata": {
    "ExecuteTime": {
     "end_time": "2020-07-13T20:35:26.536878Z",
     "start_time": "2020-07-13T20:35:24.379996Z"
    }
   },
   "outputs": [
    {
     "name": "stdout",
     "output_type": "stream",
     "text": [
      "Optimal: selection [0. 1. 0. 1. 0.], value -0.0035\n",
      "\n",
      "----------------- Full result ---------------------\n",
      "selection\tvalue\t\tprobability\n",
      "---------------------------------------------------\n",
      "[1 0 0 0 1]\t-0.0000\t\t0.3105\n",
      "[0 0 0 1 1]\t-0.0013\t\t0.2593\n",
      "[1 1 0 0 0]\t-0.0022\t\t0.2317\n",
      "[0 1 0 1 0]\t-0.0035\t\t0.1962\n",
      "[1 0 1 0 0]\t-0.0009\t\t0.0013\n",
      "[0 0 1 1 0]\t-0.0021\t\t0.0010\n",
      "[1 1 1 0 0]\t1.0059\t\t0.0000\n",
      "[1 0 1 0 1]\t1.0081\t\t0.0000\n",
      "[0 0 1 1 1]\t1.0069\t\t0.0000\n",
      "[0 1 1 0 0]\t-0.0031\t\t0.0000\n",
      "[0 1 1 1 1]\t4.0316\t\t0.0000\n",
      "[0 1 1 1 0]\t1.0047\t\t0.0000\n",
      "[0 0 0 0 1]\t1.0087\t\t0.0000\n",
      "[1 1 0 1 0]\t1.0055\t\t0.0000\n",
      "[0 1 1 0 1]\t1.0060\t\t0.0000\n",
      "[1 0 1 1 1]\t4.0336\t\t0.0000\n",
      "[0 0 1 0 1]\t-0.0009\t\t0.0000\n",
      "[1 1 1 0 1]\t4.0327\t\t0.0000\n",
      "[0 0 0 1 0]\t1.0074\t\t0.0000\n",
      "[1 1 1 1 1]\t9.0760\t\t0.0000\n",
      "[1 1 0 0 1]\t1.0068\t\t0.0000\n",
      "[1 0 0 0 0]\t1.0088\t\t0.0000\n",
      "[0 1 0 1 1]\t1.0056\t\t0.0000\n",
      "[0 0 1 0 0]\t1.0078\t\t0.0000\n",
      "[0 1 0 0 1]\t-0.0022\t\t0.0000\n",
      "[1 0 1 1 0]\t1.0068\t\t0.0000\n",
      "[0 0 0 0 0]\t4.0352\t\t0.0000\n",
      "[0 1 0 0 0]\t1.0064\t\t0.0000\n",
      "[1 0 0 1 0]\t-0.0013\t\t0.0000\n",
      "[1 1 1 1 0]\t4.0315\t\t0.0000\n",
      "[1 1 0 1 1]\t4.0323\t\t0.0000\n",
      "[1 0 0 1 1]\t1.0077\t\t0.0000\n"
     ]
    }
   ],
   "source": [
    "algorithm_globals.random_seed = seed\n",
    "backend = Aer.get_backend('statevector_simulator')\n",
    "#backend = IBMQ.providers()[0].backends()[-1]\n",
    "\n",
    "cobyla = COBYLA()\n",
    "cobyla.set_options(maxiter=500)\n",
    "\n",
    "ry = TwoLocal(num_assets, 'ry', 'cz', reps=3, entanglement='full')\n",
    "\n",
    "quantum_instance = QuantumInstance(backend=backend, seed_simulator=seed, seed_transpiler=seed)\n",
    "\n",
    "vqe_mes = VQE(ry, optimizer=cobyla, quantum_instance=quantum_instance)\n",
    "vqe = MinimumEigenOptimizer(vqe_mes)\n",
    "\n",
    "result = vqe.solve(qp)\n",
    "\n",
    "\n",
    "# print(result.fval)\n",
    "print_result(result)"
   ]
  },
  {
   "cell_type": "code",
   "execution_count": 37,
   "metadata": {},
   "outputs": [],
   "source": [
    "#1ecbbf3d033b6f55794a3d61c0af101322b1cb46e50704221178862a68506b789665134d0384d9f44deebccc054554194818486f7c70aba91aab6ec8ad0b0638"
   ]
  },
  {
   "cell_type": "code",
   "execution_count": 38,
   "metadata": {},
   "outputs": [
    {
     "name": "stdout",
     "output_type": "stream",
     "text": [
      "Stocks from our Qunatum Stock Picking algorthm selected: ['NVDA', 'AMZN']\n"
     ]
    }
   ],
   "source": [
    "selected_stocks = list(np.array(stocks)[result.x.astype('bool')])\n",
    "print(f\"Stocks from our Qunatum Stock Picking algorthm selected: {selected_stocks}\")"
   ]
  },
  {
   "cell_type": "markdown",
   "metadata": {},
   "source": [
    "### Student todo, complete an equity curve, CAGR and IR comparison for the portfolio of all the stocks you selected for optimization compared to one which your Quantum Stock picker put together\n",
    "\n",
    "hints:\n",
    "\n",
    "\n",
    "df[selected_stocks] contains a data frame with your stock pick prices.   \n",
    "df is the full list of stocks you started with."
   ]
  },
  {
   "cell_type": "code",
   "execution_count": 41,
   "metadata": {},
   "outputs": [
    {
     "name": "stdout",
     "output_type": "stream",
     "text": [
      "IR selection: 1.69\n",
      "IR all: 1.25 \n",
      "\n",
      "CAGR selection: 163.46%\n",
      "CAGR all: 127.88%\n"
     ]
    },
    {
     "data": {
      "image/png": "[encoded data removed]",
      "text/plain": [
       "<Figure size 432x288 with 1 Axes>"
      ]
     },
     "metadata": {
      "needs_background": "light"
     },
     "output_type": "display_data"
    }
   ],
   "source": [
    "all_df = df\n",
    "sel_df = df[selected_stocks]\n",
    "\n",
    "all_df_dr = all_df.pct_change().dropna().mean(axis=1)\n",
    "sel_df_dr = sel_df.pct_change().dropna().mean(axis=1)\n",
    "\n",
    "eq_all = 10000*all_df_dr.add(1).cumprod()\n",
    "eq_sel = 10000*sel_df_dr.add(1).cumprod()\n",
    "\n",
    "eq_all.plot()\n",
    "eq_sel.plot()\n",
    "plt.legend(['All','Q-Stk-Pck-er'])\n",
    "\n",
    "IR_all = (all_df_dr.mean() / all_df_dr.std()) * (252) ** 0.5\n",
    "IR_sel = (sel_df_dr.mean() / sel_df_dr.std()) * (252) ** 0.5\n",
    "\n",
    "print(f\"IR selection: {round(IR_sel,2)}\")\n",
    "print(f\"IR all: {round(IR_all,2)} \\n\")\n",
    "\n",
    "\n",
    "CAGR_all = 100*((eq_all.iloc[-1]/10000)-1) ** (252/len(eq_all))\n",
    "                              \n",
    "CAGR_sel = 100*((eq_sel.iloc[-1]/10000)-1) ** (365/(df.index[-1] - df.index[0]).days)\n",
    "                              \n",
    "print (f\"CAGR selection: {round(CAGR_sel,2)}%\")\n",
    "print (f\"CAGR all: {round(CAGR_all,2)}%\")"
   ]
  },
  {
   "cell_type": "markdown",
   "metadata": {},
   "source": [
    "# (Optional) For Advanced Students:\n",
    "\n",
    "## Here we will make some modifications to do portfolio optimization\n",
    "\n",
    "\n",
    "This tutorial shows how to solve the following mean-variance portfolio optimization problem for $n$ assets:\n",
    "\n",
    "$$\\begin{aligned}\n",
    "\\min_{x \\in \\{j ... k\\}^n}  q x^T \\Sigma x - \\mu^T x\\\\\n",
    "\\text{subject to: } 1^T x = B\n",
    "\\end{aligned}$$\n",
    "\n",
    "where we use the following notation:\n",
    "\n",
    "- $x \\in \\{-j, +k\\}^n$ denotes the vector of weight allocation variables, which indicate the relative allocation to assign. \n",
    "- $\\mu \\in \\mathbb{R}^n$ defines the expected returns for the assets,\n",
    "- $\\Sigma \\in \\mathbb{R}^{n \\times n}$ specifies the covariances between the assets,\n",
    "- $q > 0$ controls the risk appetite of the decision maker,\n",
    "- and $B$ denotes the budget, i.e. the number of assets to be selected out of $n$.\n",
    "\n",
    "We assume the following simplifications:\n",
    "- all assets have the same price (normalized to 1),\n",
    "- the full budget $B$ has to be spent, i.e. one has to allocate exactly $B$ relative amounts of asset.\n",
    "\n",
    "The equality constraint $1^T x = B$ is mapped to a penalty term $(1^T x - B)^2$ which is scaled by a parameter and subtracted from the objective function. \n",
    "The resulting problem can be mapped to a Hamiltonian whose ground state corresponds to  the optimal solution.\n",
    "This rest of this notebook shows how to use the Variational Quantum Eigensolver (VQE) an optimal solution for a given set of parameters."
   ]
  },
  {
   "cell_type": "code",
   "execution_count": 40,
   "metadata": {},
   "outputs": [
    {
     "name": "stdout",
     "output_type": "stream",
     "text": [
      "Traceback \u001b[1;36m(most recent call last)\u001b[0m:\n",
      "\u001b[1;36m  File \u001b[1;32m\"/opt/conda/lib/python3.8/site-packages/IPython/core/compilerop.py\"\u001b[1;36m, line \u001b[1;32m101\u001b[1;36m, in \u001b[1;35mast_parse\u001b[1;36m\u001b[0m\n",
      "\u001b[1;33m    return compile(source, filename, symbol, self.flags | PyCF_ONLY_AST, 1)\u001b[0m\n",
      "\u001b[1;36m  File \u001b[1;32m\"/tmp/ipykernel_60/482847446.py\"\u001b[1;36m, line \u001b[1;32m7\u001b[0m\n",
      "\u001b[1;33m    portfolio = PortfolioOptimization(expected_returns=mu, covariances=sigma, risk_factor=q, budget=budget,bounds=bounds)\u001b[0m\n",
      "\u001b[1;37m              ^\u001b[0m\n",
      "\u001b[1;31mSyntaxError\u001b[0m\u001b[1;31m:\u001b[0m invalid syntax\n",
      "\n",
      "Use %tb to get the full traceback.\n"
     ]
    },
    {
     "data": {
      "text/html": [
       "\n",
       "<style>\n",
       ".button {\n",
       "  border: none;\n",
       "  color: white;\n",
       "  padding: 4px 8px;\n",
       "  text-align: center;\n",
       "  text-decoration: none;\n",
       "  display: inline-block;\n",
       "  font-size: 12px;\n",
       "  margin: 4px 2px;\n",
       "  transition-duration: 0.2s;\n",
       "  cursor: pointer;\n",
       "}\n",
       ".iqx-button {\n",
       "  background-color: #0f62fe; \n",
       "  color: white; \n",
       "}\n",
       ".iqx-button:hover {\n",
       "  background-color: #0043ce;\n",
       "  color: white;\n",
       "}\n",
       "</style>\n",
       "<a href=\"https://stackoverflow.com/search?q=SyntaxError: invalid syntax\" target='_blank'><button class='button iqx-button'>Search for solution online</button></a>\n"
      ],
      "text/plain": [
       "<IPython.core.display.HTML object>"
      ]
     },
     "metadata": {},
     "output_type": "display_data"
    }
   ],
   "source": [
    "\n",
    "q = 0.50                   #  risk appetite \n",
    "budget = num_assets        #  Units to allocate\n",
    "penalty = num_assets //2   #  set parameter to scale the budget penalty term\n",
    "bounds = [(#todo,#todo)]*num_assets  #  Allocation units, can be negative or positive\n",
    "\n",
    "\n",
    "portfolio = PortfolioOptimization(expected_returns=mu, covariances=sigma, risk_factor=q, budget=budget,bounds=bounds)\n",
    "qp = portfolio.to_quadratic_program()\n",
    "qp"
   ]
  },
  {
   "cell_type": "code",
   "execution_count": null,
   "metadata": {},
   "outputs": [],
   "source": [
    "algorithm_globals.random_seed = seed+1\n",
    "backend = Aer.get_backend('statevector_simulator')\n",
    "\n",
    "\n",
    "cobyla = COBYLA()\n",
    "cobyla.set_options(maxiter=500)\n",
    "\n",
    "ry = TwoLocal(num_assets, 'ry', 'cz', reps=3, entanglement='full')\n",
    "\n",
    "quantum_instance = QuantumInstance(backend=backend, seed_simulator=seed, seed_transpiler=seed)\n",
    "\n",
    "vqe_mes = VQE(ry, optimizer=cobyla, quantum_instance=quantum_instance)\n",
    "vqe = MinimumEigenOptimizer(vqe_mes)\n",
    "\n",
    "result = vqe.solve(qp)"
   ]
  },
  {
   "cell_type": "code",
   "execution_count": null,
   "metadata": {},
   "outputs": [],
   "source": [
    "allocations = pandas.DataFrame({f\"{stocks[tidx]}\":result.x[tidx] for tidx in range(len(stocks))},index=['Allocation'])"
   ]
  },
  {
   "cell_type": "markdown",
   "metadata": {},
   "source": [
    "### Student todo, complete an equity curve, CAGR and IR comparison for the a portfolio of all the stocks you selected for optimization compared to one which your Quantum Portfolio Optimzer put together.\n",
    "\n",
    "hints:\n",
    "\n",
    "\n",
    "The variable allocations contains a DataFrame with your relative stock allocations.   \n",
    "df is the full list of stocks you started with."
   ]
  },
  {
   "cell_type": "code",
   "execution_count": null,
   "metadata": {},
   "outputs": [],
   "source": []
  },
  {
   "cell_type": "code",
   "execution_count": null,
   "metadata": {},
   "outputs": [],
   "source": []
  }
 ],
 "metadata": {
  "celltoolbar": "Tags",
  "kernelspec": {
   "display_name": "Qiskit v0.32.1 (ipykernel)",
   "language": "python",
   "name": "python3"
  },
  "language_info": {
   "codemirror_mode": {
    "name": "ipython",
    "version": 3
   },
   "file_extension": ".py",
   "mimetype": "text/x-python",
   "name": "python",
   "nbconvert_exporter": "python",
   "pygments_lexer": "ipython3",
   "version": "3.8.10"
  },
  "varInspector": {
   "cols": {
    "lenName": 16,
    "lenType": 16,
    "lenVar": 40
   },
   "kernels_config": {
    "python": {
     "delete_cmd_postfix": "",
     "delete_cmd_prefix": "del ",
     "library": "var_list.py",
     "varRefreshCmd": "print(var_dic_list())"
    },
    "r": {
     "delete_cmd_postfix": ") ",
     "delete_cmd_prefix": "rm(",
     "library": "var_list.r",
     "varRefreshCmd": "cat(var_dic_list()) "
    }
   },
   "types_to_exclude": [
    "module",
    "function",
    "builtin_function_or_method",
    "instance",
    "_Feature"
   ],
   "window_display": false
  },
  "widgets": {
   "application/vnd.jupyter.widget-state+json": {
    "state": {},
    "version_major": 2,
    "version_minor": 0
   }
  }
 },
 "nbformat": 4,
 "nbformat_minor": 4
}
